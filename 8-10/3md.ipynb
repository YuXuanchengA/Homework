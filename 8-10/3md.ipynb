{
 "cells": [
  {
   "cell_type": "code",
   "execution_count": 1,
   "metadata": {},
   "outputs": [
    {
     "name": "stdout",
     "output_type": "stream",
     "text": [
      "请输入一个较小的整数7\n",
      "请输入一个较大的整数且不等于0100\n",
      "如果要求和则输入1，如果要求积则输入2，如果要求m/n的余数则输入3，如果要求m整除n的数则输入m/n1\n",
      "5029\n"
     ]
    }
   ],
   "source": [
    "#练习 2：写程序，可由键盘读入两个整数m与n(n不等于0)，询问用户意图\n",
    "#如果要求和则计算从m到n的和输出，如果要乘积则计算从m到n的积并输出，如果要求余数则计算m除以n的余数的值并输出，否则则计算m整除n的值并输出。\n",
    "\n",
    "m=int(input('请输入一个较小的整数'))\n",
    "n=int(input('请输入一个较大的整数且不等于0'))\n",
    "\n",
    "choice=int(input('如果要求和则输入1，如果要求积则输入2，如果要求m/n的余数则输入3，如果要求m整除n的数则输入m/n'))\n",
    "\n",
    "if choice==1:\n",
    "    i=m\n",
    "    total=m\n",
    "    while i<n:\n",
    "        i=i+1\n",
    "        total=total+i\n",
    "    print(total)\n",
    "elif choice==2:\n",
    "    i=m\n",
    "    product=m\n",
    "    while i<n:\n",
    "        i=i+1\n",
    "        product=product*i\n",
    "    print(product)\n",
    "elif choice==3:\n",
    "    print(m%n)\n",
    "else:\n",
    "    print(m/n)"
   ]
  },
  {
   "cell_type": "code",
   "execution_count": 2,
   "metadata": {},
   "outputs": [
    {
     "name": "stdout",
     "output_type": "stream",
     "text": [
      "请输入一个单词单数形式bird\n",
      "birds\n"
     ]
    }
   ],
   "source": [
    "#练习 4：英文单词单数转复数，要求输入一个英文动词（单数形式），能够得到其复数形式，或给出单数转复数形式的建议\n",
    "#提示，some_string.endswith(some_letter)函数可以判断某字符串结尾字符，可尝试运行：\n",
    "#'myname'.endswith('me')，liupengyuan'.endswith('n')）。\n",
    "\n",
    "word=input('请输入一个单词单数形式')\n",
    "\n",
    "if word.endswith('s'or'x'or'sh'or'ch'):\n",
    "    print(word+'es')\n",
    "elif word.endswith('f'):\n",
    "    print(word-'f'+'ies')\n",
    "elif word.endswith('fe'):\n",
    "    print(word-'fe'+'ies')\n",
    "elif word.endswith('y'):\n",
    "    print(word-'y'+'ies')\n",
    "else:\n",
    "    print(word+'s')"
   ]
  },
  {
   "cell_type": "code",
   "execution_count": null,
   "metadata": {},
   "outputs": [],
   "source": []
  }
 ],
 "metadata": {
  "kernelspec": {
   "display_name": "Python 3",
   "language": "python",
   "name": "python3"
  },
  "language_info": {
   "codemirror_mode": {
    "name": "ipython",
    "version": 3
   },
   "file_extension": ".py",
   "mimetype": "text/x-python",
   "name": "python",
   "nbconvert_exporter": "python",
   "pygments_lexer": "ipython3",
   "version": "3.6.2"
  }
 },
 "nbformat": 4,
 "nbformat_minor": 2
}
